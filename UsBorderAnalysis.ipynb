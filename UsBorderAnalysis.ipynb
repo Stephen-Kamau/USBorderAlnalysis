{
 "cells": [
  {
   "cell_type": "markdown",
   "metadata": {},
   "source": [
    "## Border Crossing Entry Data"
   ]
  },
  {
   "cell_type": "code",
   "execution_count": 1,
   "metadata": {},
   "outputs": [],
   "source": [
    "import pandas as pd                      #import dataframe and numpy for stats\n",
    "import numpy as np"
   ]
  },
  {
   "cell_type": "code",
   "execution_count": 2,
   "metadata": {},
   "outputs": [],
   "source": [
    "import matplotlib.pyplot as plt         #import graphs\n",
    "import seaborn as sns\n",
    "sns.set_style(\"whitegrid\")"
   ]
  },
  {
   "cell_type": "code",
   "execution_count": 3,
   "metadata": {},
   "outputs": [],
   "source": [
    "import warnings as wrn                     #import warnings and ignore them\n",
    "wrn.filterwarnings('ignore',category=FutureWarning)\n",
    "wrn.filterwarnings('ignore',category=UserWarning)\n",
    "wrn.filterwarnings('ignore',category=DeprecationWarning)"
   ]
  },
  {
   "cell_type": "code",
   "execution_count": 4,
   "metadata": {},
   "outputs": [
    {
     "data": {
      "text/html": [
       "        <script type=\"text/javascript\">\n",
       "        window.PlotlyConfig = {MathJaxConfig: 'local'};\n",
       "        if (window.MathJax) {MathJax.Hub.Config({SVG: {font: \"STIX-Web\"}});}\n",
       "        if (typeof require !== 'undefined') {\n",
       "        require.undef(\"plotly\");\n",
       "        requirejs.config({\n",
       "            paths: {\n",
       "                'plotly': ['https://cdn.plot.ly/plotly-latest.min']\n",
       "            }\n",
       "        });\n",
       "        require(['plotly'], function(Plotly) {\n",
       "            window._Plotly = Plotly;\n",
       "        });\n",
       "        }\n",
       "        </script>\n",
       "        "
      ]
     },
     "metadata": {},
     "output_type": "display_data"
    }
   ],
   "source": [
    "import plotly.offline as py\n",
    "from plotly.offline import iplot, init_notebook_mode\n",
    "import plotly.graph_objs as go\n",
    "init_notebook_mode(connected = True) # Required to use plotly offline in jupyter notebook"
   ]
  },
  {
   "cell_type": "code",
   "execution_count": 5,
   "metadata": {},
   "outputs": [],
   "source": [
    "df=pd.read_csv('Border_Crossing_Entry_Data.csv')"
   ]
  },
  {
   "cell_type": "code",
   "execution_count": 6,
   "metadata": {},
   "outputs": [
    {
     "data": {
      "text/html": [
       "<div>\n",
       "<style scoped>\n",
       "    .dataframe tbody tr th:only-of-type {\n",
       "        vertical-align: middle;\n",
       "    }\n",
       "\n",
       "    .dataframe tbody tr th {\n",
       "        vertical-align: top;\n",
       "    }\n",
       "\n",
       "    .dataframe thead th {\n",
       "        text-align: right;\n",
       "    }\n",
       "</style>\n",
       "<table border=\"1\" class=\"dataframe\">\n",
       "  <thead>\n",
       "    <tr style=\"text-align: right;\">\n",
       "      <th></th>\n",
       "      <th>Port Name</th>\n",
       "      <th>State</th>\n",
       "      <th>Port Code</th>\n",
       "      <th>Border</th>\n",
       "      <th>Measure</th>\n",
       "      <th>Value</th>\n",
       "      <th>Location</th>\n",
       "    </tr>\n",
       "  </thead>\n",
       "  <tbody>\n",
       "    <tr>\n",
       "      <td>0</td>\n",
       "      <td>Calexico East</td>\n",
       "      <td>California</td>\n",
       "      <td>2507</td>\n",
       "      <td>US-Mexico Border</td>\n",
       "      <td>Trucks</td>\n",
       "      <td>34447</td>\n",
       "      <td>POINT (-115.48433000000001 32.67524)</td>\n",
       "    </tr>\n",
       "    <tr>\n",
       "      <td>1</td>\n",
       "      <td>Van Buren</td>\n",
       "      <td>Maine</td>\n",
       "      <td>108</td>\n",
       "      <td>US-Canada Border</td>\n",
       "      <td>Rail Containers Full</td>\n",
       "      <td>428</td>\n",
       "      <td>POINT (-67.94271 47.16207)</td>\n",
       "    </tr>\n",
       "    <tr>\n",
       "      <td>2</td>\n",
       "      <td>Otay Mesa</td>\n",
       "      <td>California</td>\n",
       "      <td>2506</td>\n",
       "      <td>US-Mexico Border</td>\n",
       "      <td>Trucks</td>\n",
       "      <td>81217</td>\n",
       "      <td>POINT (-117.05333 32.57333)</td>\n",
       "    </tr>\n",
       "    <tr>\n",
       "      <td>3</td>\n",
       "      <td>Nogales</td>\n",
       "      <td>Arizona</td>\n",
       "      <td>2604</td>\n",
       "      <td>US-Mexico Border</td>\n",
       "      <td>Trains</td>\n",
       "      <td>62</td>\n",
       "      <td>POINT (-110.93361 31.340279999999996)</td>\n",
       "    </tr>\n",
       "    <tr>\n",
       "      <td>4</td>\n",
       "      <td>Trout River</td>\n",
       "      <td>New York</td>\n",
       "      <td>715</td>\n",
       "      <td>US-Canada Border</td>\n",
       "      <td>Personal Vehicle Passengers</td>\n",
       "      <td>16377</td>\n",
       "      <td>POINT (-73.44253 44.990010000000005)</td>\n",
       "    </tr>\n",
       "  </tbody>\n",
       "</table>\n",
       "</div>"
      ],
      "text/plain": [
       "       Port Name       State  Port Code            Border  \\\n",
       "0  Calexico East  California       2507  US-Mexico Border   \n",
       "1      Van Buren       Maine        108  US-Canada Border   \n",
       "2      Otay Mesa  California       2506  US-Mexico Border   \n",
       "3        Nogales     Arizona       2604  US-Mexico Border   \n",
       "4    Trout River    New York        715  US-Canada Border   \n",
       "\n",
       "                       Measure  Value                               Location  \n",
       "0                       Trucks  34447   POINT (-115.48433000000001 32.67524)  \n",
       "1         Rail Containers Full    428             POINT (-67.94271 47.16207)  \n",
       "2                       Trucks  81217            POINT (-117.05333 32.57333)  \n",
       "3                       Trains     62  POINT (-110.93361 31.340279999999996)  \n",
       "4  Personal Vehicle Passengers  16377   POINT (-73.44253 44.990010000000005)  "
      ]
     },
     "execution_count": 6,
     "metadata": {},
     "output_type": "execute_result"
    }
   ],
   "source": [
    "#check few rows\n",
    "df.head()"
   ]
  },
  {
   "cell_type": "code",
   "execution_count": 7,
   "metadata": {},
   "outputs": [
    {
     "name": "stdout",
     "output_type": "stream",
     "text": [
      "<class 'pandas.core.frame.DataFrame'>\n",
      "RangeIndex: 346733 entries, 0 to 346732\n",
      "Data columns (total 7 columns):\n",
      "Port Name    346733 non-null object\n",
      "State        346733 non-null object\n",
      "Port Code    346733 non-null int64\n",
      "Border       346733 non-null object\n",
      "Measure      346733 non-null object\n",
      "Value        346733 non-null int64\n",
      "Location     346733 non-null object\n",
      "dtypes: int64(2), object(5)\n",
      "memory usage: 18.5+ MB\n"
     ]
    }
   ],
   "source": [
    "# check the data information\n",
    "df.info()"
   ]
  },
  {
   "cell_type": "code",
   "execution_count": 8,
   "metadata": {},
   "outputs": [
    {
     "data": {
      "text/plain": [
       "Port Name    0\n",
       "State        0\n",
       "Port Code    0\n",
       "Border       0\n",
       "Measure      0\n",
       "Value        0\n",
       "Location     0\n",
       "dtype: int64"
      ]
     },
     "execution_count": 8,
     "metadata": {},
     "output_type": "execute_result"
    }
   ],
   "source": [
    "#check nulls\n",
    "df.isnull().sum()"
   ]
  },
  {
   "cell_type": "code",
   "execution_count": 19,
   "metadata": {},
   "outputs": [
    {
     "data": {
      "text/plain": [
       "Index(['Port Name', 'State', 'Port Code', 'Border', 'Measure', 'Value',\n",
       "       'Location'],\n",
       "      dtype='object')"
      ]
     },
     "execution_count": 19,
     "metadata": {},
     "output_type": "execute_result"
    }
   ],
   "source": [
    "#columns\n",
    "df.columns"
   ]
  },
  {
   "cell_type": "code",
   "execution_count": 24,
   "metadata": {},
   "outputs": [
    {
     "data": {
      "text/plain": [
       "Port Name    object\n",
       "State        object\n",
       "Port Code     int64\n",
       "Border       object\n",
       "Measure      object\n",
       "Value         int64\n",
       "Location     object\n",
       "dtype: object"
      ]
     },
     "execution_count": 24,
     "metadata": {},
     "output_type": "execute_result"
    }
   ],
   "source": [
    "# dtypes for the columns\n",
    "df.dtypes\n",
    "#we have objects as columns dtypes thus we need to clean them"
   ]
  },
  {
   "cell_type": "code",
   "execution_count": 31,
   "metadata": {},
   "outputs": [],
   "source": [
    "#columns wheere the dtype is object\n",
    "object_cols = df.columns[df.dtypes == object]"
   ]
  },
  {
   "cell_type": "code",
   "execution_count": 32,
   "metadata": {},
   "outputs": [
    {
     "data": {
      "text/html": [
       "<div>\n",
       "<style scoped>\n",
       "    .dataframe tbody tr th:only-of-type {\n",
       "        vertical-align: middle;\n",
       "    }\n",
       "\n",
       "    .dataframe tbody tr th {\n",
       "        vertical-align: top;\n",
       "    }\n",
       "\n",
       "    .dataframe thead th {\n",
       "        text-align: right;\n",
       "    }\n",
       "</style>\n",
       "<table border=\"1\" class=\"dataframe\">\n",
       "  <thead>\n",
       "    <tr style=\"text-align: right;\">\n",
       "      <th></th>\n",
       "      <th>Port Name</th>\n",
       "      <th>State</th>\n",
       "      <th>Border</th>\n",
       "      <th>Measure</th>\n",
       "      <th>Location</th>\n",
       "    </tr>\n",
       "  </thead>\n",
       "  <tbody>\n",
       "    <tr>\n",
       "      <td>0</td>\n",
       "      <td>Calexico East</td>\n",
       "      <td>California</td>\n",
       "      <td>US-Mexico Border</td>\n",
       "      <td>Trucks</td>\n",
       "      <td>POINT (-115.48433000000001 32.67524)</td>\n",
       "    </tr>\n",
       "    <tr>\n",
       "      <td>1</td>\n",
       "      <td>Van Buren</td>\n",
       "      <td>Maine</td>\n",
       "      <td>US-Canada Border</td>\n",
       "      <td>Rail Containers Full</td>\n",
       "      <td>POINT (-67.94271 47.16207)</td>\n",
       "    </tr>\n",
       "    <tr>\n",
       "      <td>2</td>\n",
       "      <td>Otay Mesa</td>\n",
       "      <td>California</td>\n",
       "      <td>US-Mexico Border</td>\n",
       "      <td>Trucks</td>\n",
       "      <td>POINT (-117.05333 32.57333)</td>\n",
       "    </tr>\n",
       "    <tr>\n",
       "      <td>3</td>\n",
       "      <td>Nogales</td>\n",
       "      <td>Arizona</td>\n",
       "      <td>US-Mexico Border</td>\n",
       "      <td>Trains</td>\n",
       "      <td>POINT (-110.93361 31.340279999999996)</td>\n",
       "    </tr>\n",
       "    <tr>\n",
       "      <td>4</td>\n",
       "      <td>Trout River</td>\n",
       "      <td>New York</td>\n",
       "      <td>US-Canada Border</td>\n",
       "      <td>Personal Vehicle Passengers</td>\n",
       "      <td>POINT (-73.44253 44.990010000000005)</td>\n",
       "    </tr>\n",
       "    <tr>\n",
       "      <td>5</td>\n",
       "      <td>Madawaska</td>\n",
       "      <td>Maine</td>\n",
       "      <td>US-Canada Border</td>\n",
       "      <td>Trucks</td>\n",
       "      <td>POINT (-68.3271 47.35446)</td>\n",
       "    </tr>\n",
       "    <tr>\n",
       "      <td>6</td>\n",
       "      <td>Pembina</td>\n",
       "      <td>North Dakota</td>\n",
       "      <td>US-Canada Border</td>\n",
       "      <td>Bus Passengers</td>\n",
       "      <td>POINT (-97.24333 48.96639)</td>\n",
       "    </tr>\n",
       "    <tr>\n",
       "      <td>7</td>\n",
       "      <td>Progreso</td>\n",
       "      <td>Texas</td>\n",
       "      <td>US-Mexico Border</td>\n",
       "      <td>Truck Containers Empty</td>\n",
       "      <td>POINT (-97.94889 26.061670000000003)</td>\n",
       "    </tr>\n",
       "    <tr>\n",
       "      <td>8</td>\n",
       "      <td>Portal</td>\n",
       "      <td>North Dakota</td>\n",
       "      <td>US-Canada Border</td>\n",
       "      <td>Rail Containers Empty</td>\n",
       "      <td>POINT (-102.54917 48.99583)</td>\n",
       "    </tr>\n",
       "    <tr>\n",
       "      <td>9</td>\n",
       "      <td>Champlain-Rouses Point</td>\n",
       "      <td>New York</td>\n",
       "      <td>US-Canada Border</td>\n",
       "      <td>Trucks</td>\n",
       "      <td>POINT (-73.44694 44.98639)</td>\n",
       "    </tr>\n",
       "  </tbody>\n",
       "</table>\n",
       "</div>"
      ],
      "text/plain": [
       "                Port Name         State            Border  \\\n",
       "0           Calexico East    California  US-Mexico Border   \n",
       "1               Van Buren         Maine  US-Canada Border   \n",
       "2               Otay Mesa    California  US-Mexico Border   \n",
       "3                 Nogales       Arizona  US-Mexico Border   \n",
       "4             Trout River      New York  US-Canada Border   \n",
       "5               Madawaska         Maine  US-Canada Border   \n",
       "6                 Pembina  North Dakota  US-Canada Border   \n",
       "7                Progreso         Texas  US-Mexico Border   \n",
       "8                  Portal  North Dakota  US-Canada Border   \n",
       "9  Champlain-Rouses Point      New York  US-Canada Border   \n",
       "\n",
       "                       Measure                               Location  \n",
       "0                       Trucks   POINT (-115.48433000000001 32.67524)  \n",
       "1         Rail Containers Full             POINT (-67.94271 47.16207)  \n",
       "2                       Trucks            POINT (-117.05333 32.57333)  \n",
       "3                       Trains  POINT (-110.93361 31.340279999999996)  \n",
       "4  Personal Vehicle Passengers   POINT (-73.44253 44.990010000000005)  \n",
       "5                       Trucks              POINT (-68.3271 47.35446)  \n",
       "6               Bus Passengers             POINT (-97.24333 48.96639)  \n",
       "7       Truck Containers Empty   POINT (-97.94889 26.061670000000003)  \n",
       "8        Rail Containers Empty            POINT (-102.54917 48.99583)  \n",
       "9                       Trucks             POINT (-73.44694 44.98639)  "
      ]
     },
     "execution_count": 32,
     "metadata": {},
     "output_type": "execute_result"
    }
   ],
   "source": [
    "#check the head of the columns\n",
    "df[object_cols].head(10)"
   ]
  },
  {
   "cell_type": "code",
   "execution_count": 9,
   "metadata": {},
   "outputs": [
    {
     "name": "stdout",
     "output_type": "stream",
     "text": [
      "['Total Borders are in data are : US-Mexico Border'\n",
      " 'Total Borders are in data are : US-Canada Border']\n"
     ]
    }
   ],
   "source": [
    "#check the uniques values in the border column\n",
    "print('Total Borders are in data are : ' + df['Border'].unique())\n",
    "#we onnly have two of them"
   ]
  },
  {
   "cell_type": "code",
   "execution_count": 14,
   "metadata": {},
   "outputs": [
    {
     "data": {
      "text/plain": [
       "(346733, 7)"
      ]
     },
     "execution_count": 14,
     "metadata": {},
     "output_type": "execute_result"
    }
   ],
   "source": [
    "#check shape\n",
    "df.shape"
   ]
  },
  {
   "cell_type": "code",
   "execution_count": 13,
   "metadata": {},
   "outputs": [
    {
     "data": {
      "text/plain": [
       "169007"
      ]
     },
     "execution_count": 13,
     "metadata": {},
     "output_type": "execute_result"
    }
   ],
   "source": [
    "#check duplicates\n",
    "df.duplicated().sum()"
   ]
  },
  {
   "cell_type": "code",
   "execution_count": 16,
   "metadata": {},
   "outputs": [],
   "source": [
    "# remove duplicates\n",
    "df.drop_duplicates(inplace = True)"
   ]
  },
  {
   "cell_type": "code",
   "execution_count": 17,
   "metadata": {},
   "outputs": [
    {
     "data": {
      "text/plain": [
       "(177726, 7)"
      ]
     },
     "execution_count": 17,
     "metadata": {},
     "output_type": "execute_result"
    }
   ],
   "source": [
    "#check new shape\n",
    "df.shape"
   ]
  },
  {
   "cell_type": "code",
   "execution_count": 25,
   "metadata": {},
   "outputs": [
    {
     "name": "stdout",
     "output_type": "stream",
     "text": [
      "['Vehicle Typwe crossing the border ->Trucks'\n",
      " 'Vehicle Typwe crossing the border ->Rail Containers Full'\n",
      " 'Vehicle Typwe crossing the border ->Trains'\n",
      " 'Vehicle Typwe crossing the border ->Personal Vehicle Passengers'\n",
      " 'Vehicle Typwe crossing the border ->Bus Passengers'\n",
      " 'Vehicle Typwe crossing the border ->Truck Containers Empty'\n",
      " 'Vehicle Typwe crossing the border ->Rail Containers Empty'\n",
      " 'Vehicle Typwe crossing the border ->Personal Vehicles'\n",
      " 'Vehicle Typwe crossing the border ->Buses'\n",
      " 'Vehicle Typwe crossing the border ->Truck Containers Full'\n",
      " 'Vehicle Typwe crossing the border ->Pedestrians'\n",
      " 'Vehicle Typwe crossing the border ->Train Passengers']\n"
     ]
    }
   ],
   "source": [
    "#check types of vehicles crossing the borders\n",
    "print('Vehicle Typwe crossing the border ->'+ df['Measure'].unique())"
   ]
  },
  {
   "cell_type": "code",
   "execution_count": 26,
   "metadata": {},
   "outputs": [
    {
     "data": {
      "text/plain": [
       "12"
      ]
     },
     "execution_count": 26,
     "metadata": {},
     "output_type": "execute_result"
    }
   ],
   "source": [
    "#sum of cars types crossing the border\n",
    "df['Measure'].nunique()"
   ]
  },
  {
   "cell_type": "code",
   "execution_count": 42,
   "metadata": {},
   "outputs": [
    {
     "data": {
      "text/plain": [
       "(array([ 0,  1,  2,  3,  4,  5,  6,  7,  8,  9, 10, 11]),\n",
       " <a list of 12 Text xticklabel objects>)"
      ]
     },
     "execution_count": 42,
     "metadata": {},
     "output_type": "execute_result"
    },
    {
     "data": {
      "image/png": "[encoded data removed]",
      "text/plain": [
       "<Figure size 432x288 with 1 Axes>"
      ]
     },
     "metadata": {},
     "output_type": "display_data"
    }
   ],
   "source": [
    "#we will plot a count plot for the typ of cars crossing the border\n",
    "sns.countplot(x='Measure',data=df,color=\"lightgreen\")\n",
    "sns.set(context=\"paper\", font=\"monospace\")\n",
    "plt.title(\"Types Of vehiclecs Crossing the borders\")\n",
    "plt.xticks(rotation=90)"
   ]
  },
  {
   "cell_type": "markdown",
   "metadata": {},
   "source": [
    "## Observation\n",
    " From the above wwe have saw that Personal Vehicles were the most recorded to cross the border.\n",
    " This maybe because most people use private cars as means of trasport rather than psv\n",
    " \n",
    " Trains had  the lowest records as Trains are not common means of transport in Us"
   ]
  },
  {
   "cell_type": "code",
   "execution_count": 36,
   "metadata": {},
   "outputs": [
    {
     "data": {
      "text/plain": [
       "(array([0, 1]), <a list of 2 Text xticklabel objects>)"
      ]
     },
     "execution_count": 36,
     "metadata": {},
     "output_type": "execute_result"
    },
    {
     "data": {
      "image/png": "[encoded data removed]",
      "text/plain": [
       "<Figure size 432x288 with 1 Axes>"
      ]
     },
     "metadata": {},
     "output_type": "display_data"
    }
   ],
   "source": [
    "\n",
    "#we will plot a count plot for the two borders\n",
    "sns.countplot(x='Border',data=df)\n",
    "plt.title(\"Borders Summaries\")\n",
    "sns.set(context=\"paper\", font=\"monospace\")\n",
    "plt.xticks(rotation=30)"
   ]
  },
  {
   "cell_type": "markdown",
   "metadata": {},
   "source": [
    "## Observsation\n",
    "  From The Results of Border Summaries , We see musch of the vehicles uses US_Canada Border to cross."
   ]
  },
  {
   "cell_type": "code",
   "execution_count": 45,
   "metadata": {},
   "outputs": [
    {
     "name": "stdout",
     "output_type": "stream",
     "text": [
      "[' States with the borders : California'\n",
      " ' States with the borders : Maine' ' States with the borders : Arizona'\n",
      " ' States with the borders : New York'\n",
      " ' States with the borders : North Dakota'\n",
      " ' States with the borders : Texas' ' States with the borders : Montana'\n",
      " ' States with the borders : Minnesota'\n",
      " ' States with the borders : Vermont'\n",
      " ' States with the borders : Washington'\n",
      " ' States with the borders : Idaho' ' States with the borders : Michigan'\n",
      " ' States with the borders : New Mexico'\n",
      " ' States with the borders : Alaska' ' States with the borders : Ohio']\n",
      "Totals to 15\n"
     ]
    }
   ],
   "source": [
    "print(' States with the borders : ' + df['State'].unique())\n",
    "print(f\"Totals to {df['State'].nunique()}\")"
   ]
  },
  {
   "cell_type": "code",
   "execution_count": null,
   "metadata": {},
   "outputs": [],
   "source": []
  },
  {
   "cell_type": "code",
   "execution_count": 46,
   "metadata": {},
   "outputs": [
    {
     "data": {
      "text/plain": [
       "(array([ 0,  1,  2,  3,  4,  5,  6,  7,  8,  9, 10, 11, 12, 13, 14]),\n",
       " <a list of 15 Text xticklabel objects>)"
      ]
     },
     "execution_count": 46,
     "metadata": {},
     "output_type": "execute_result"
    },
    {
     "data": {
      "image/png": "[encoded data removed]",
      "text/plain": [
       "<Figure size 432x288 with 1 Axes>"
      ]
     },
     "metadata": {},
     "output_type": "display_data"
    }
   ],
   "source": [
    "#check total vehicles passing throue each state\n",
    "sns.countplot(x='State',data=df,color=\"b\")\n",
    "plt.title(\"Vehcles closing Each state\")\n",
    "sns.set(context=\"paper\", font=\"monospace\")\n",
    "plt.xticks(rotation=90)"
   ]
  },
  {
   "cell_type": "markdown",
   "metadata": {},
   "source": [
    "## Observation\n",
    "  Mosts vehicles pass through Texas while crossing the border\n",
    "  \n",
    "  Mexico Experiences the least vehicles maybe as you know in reality because \n",
    "   of restrictions from us government as its is regarded as drug dealer state"
   ]
  },
  {
   "cell_type": "code",
   "execution_count": 69,
   "metadata": {},
   "outputs": [
    {
     "name": "stdout",
     "output_type": "stream",
     "text": [
      "Totals to 116\n"
     ]
    }
   ],
   "source": [
    "# print(' Ports used : ' + df['Port Name'].unique())\n",
    "print(f\"Totals to {df['Port Name'].nunique()}\")"
   ]
  },
  {
   "cell_type": "code",
   "execution_count": 59,
   "metadata": {},
   "outputs": [],
   "source": [
    "#since the data is big lets deals with strings and categorical datsa first\n",
    "#we will cat encode them\n",
    "df[object_cols] = df[object_cols].astype('category')"
   ]
  },
  {
   "cell_type": "code",
   "execution_count": 62,
   "metadata": {},
   "outputs": [],
   "source": [
    "#encode them\n",
    "for each in object_cols:\n",
    "    df[each] = df[each].cat.codes"
   ]
  },
  {
   "cell_type": "code",
   "execution_count": 67,
   "metadata": {},
   "outputs": [
    {
     "data": {
      "text/plain": [
       "Port Name     int8\n",
       "State         int8\n",
       "Port Code    int64\n",
       "Border        int8\n",
       "Measure       int8\n",
       "Value        int64\n",
       "Location     int16\n",
       "dtype: object"
      ]
     },
     "execution_count": 67,
     "metadata": {},
     "output_type": "execute_result"
    }
   ],
   "source": [
    "#check new data types\n",
    "df.dtypes"
   ]
  },
  {
   "cell_type": "code",
   "execution_count": 68,
   "metadata": {},
   "outputs": [
    {
     "data": {
      "text/html": [
       "<div>\n",
       "<style scoped>\n",
       "    .dataframe tbody tr th:only-of-type {\n",
       "        vertical-align: middle;\n",
       "    }\n",
       "\n",
       "    .dataframe tbody tr th {\n",
       "        vertical-align: top;\n",
       "    }\n",
       "\n",
       "    .dataframe thead th {\n",
       "        text-align: right;\n",
       "    }\n",
       "</style>\n",
       "<table border=\"1\" class=\"dataframe\">\n",
       "  <thead>\n",
       "    <tr style=\"text-align: right;\">\n",
       "      <th></th>\n",
       "      <th>Port Name</th>\n",
       "      <th>State</th>\n",
       "      <th>Port Code</th>\n",
       "      <th>Border</th>\n",
       "      <th>Measure</th>\n",
       "      <th>Value</th>\n",
       "      <th>Location</th>\n",
       "    </tr>\n",
       "  </thead>\n",
       "  <tbody>\n",
       "    <tr>\n",
       "      <td>0</td>\n",
       "      <td>18</td>\n",
       "      <td>2</td>\n",
       "      <td>2507</td>\n",
       "      <td>1</td>\n",
       "      <td>11</td>\n",
       "      <td>34447</td>\n",
       "      <td>74</td>\n",
       "    </tr>\n",
       "    <tr>\n",
       "      <td>1</td>\n",
       "      <td>107</td>\n",
       "      <td>4</td>\n",
       "      <td>108</td>\n",
       "      <td>0</td>\n",
       "      <td>6</td>\n",
       "      <td>428</td>\n",
       "      <td>141</td>\n",
       "    </tr>\n",
       "    <tr>\n",
       "      <td>2</td>\n",
       "      <td>72</td>\n",
       "      <td>2</td>\n",
       "      <td>2506</td>\n",
       "      <td>1</td>\n",
       "      <td>11</td>\n",
       "      <td>81217</td>\n",
       "      <td>87</td>\n",
       "    </tr>\n",
       "    <tr>\n",
       "      <td>3</td>\n",
       "      <td>64</td>\n",
       "      <td>1</td>\n",
       "      <td>2604</td>\n",
       "      <td>1</td>\n",
       "      <td>8</td>\n",
       "      <td>62</td>\n",
       "      <td>53</td>\n",
       "    </tr>\n",
       "    <tr>\n",
       "      <td>4</td>\n",
       "      <td>105</td>\n",
       "      <td>9</td>\n",
       "      <td>715</td>\n",
       "      <td>0</td>\n",
       "      <td>3</td>\n",
       "      <td>16377</td>\n",
       "      <td>161</td>\n",
       "    </tr>\n",
       "  </tbody>\n",
       "</table>\n",
       "</div>"
      ],
      "text/plain": [
       "   Port Name  State  Port Code  Border  Measure  Value  Location\n",
       "0         18      2       2507       1       11  34447        74\n",
       "1        107      4        108       0        6    428       141\n",
       "2         72      2       2506       1       11  81217        87\n",
       "3         64      1       2604       1        8     62        53\n",
       "4        105      9        715       0        3  16377       161"
      ]
     },
     "execution_count": 68,
     "metadata": {},
     "output_type": "execute_result"
    }
   ],
   "source": [
    "df.head()"
   ]
  },
  {
   "cell_type": "code",
   "execution_count": 73,
   "metadata": {},
   "outputs": [
    {
     "data": {
      "text/plain": [
       "(array([  0,   1,   2,   3,   4,   5,   6,   7,   8,   9,  10,  11,  12,\n",
       "         13,  14,  15,  16,  17,  18,  19,  20,  21,  22,  23,  24,  25,\n",
       "         26,  27,  28,  29,  30,  31,  32,  33,  34,  35,  36,  37,  38,\n",
       "         39,  40,  41,  42,  43,  44,  45,  46,  47,  48,  49,  50,  51,\n",
       "         52,  53,  54,  55,  56,  57,  58,  59,  60,  61,  62,  63,  64,\n",
       "         65,  66,  67,  68,  69,  70,  71,  72,  73,  74,  75,  76,  77,\n",
       "         78,  79,  80,  81,  82,  83,  84,  85,  86,  87,  88,  89,  90,\n",
       "         91,  92,  93,  94,  95,  96,  97,  98,  99, 100, 101, 102, 103,\n",
       "        104, 105, 106, 107, 108, 109, 110, 111, 112, 113, 114, 115]),\n",
       " <a list of 116 Text xticklabel objects>)"
      ]
     },
     "execution_count": 73,
     "metadata": {},
     "output_type": "execute_result"
    },
    {
     "data": {
      "image/png": "[encoded data removed]",
      "text/plain": [
       "<Figure size 1944x792 with 1 Axes>"
      ]
     },
     "metadata": {},
     "output_type": "display_data"
    }
   ],
   "source": [
    "#check the distribution of port names\n",
    "#check total vehicles passing throue each state\n",
    "plt.figure(figsize = (27,11))\n",
    "sns.countplot(df['Port Name'],color=\"b\")\n",
    "plt.title(\"Vehcles closing Each state\")\n",
    "sns.set(context=\"paper\", font=\"monospace\")\n",
    "plt.xticks(rotation=90)"
   ]
  },
  {
   "cell_type": "code",
   "execution_count": null,
   "metadata": {},
   "outputs": [],
   "source": []
  },
  {
   "cell_type": "code",
   "execution_count": null,
   "metadata": {},
   "outputs": [],
   "source": []
  },
  {
   "cell_type": "code",
   "execution_count": null,
   "metadata": {},
   "outputs": [],
   "source": []
  },
  {
   "cell_type": "code",
   "execution_count": null,
   "metadata": {},
   "outputs": [],
   "source": []
  },
  {
   "cell_type": "code",
   "execution_count": null,
   "metadata": {},
   "outputs": [],
   "source": []
  },
  {
   "cell_type": "code",
   "execution_count": null,
   "metadata": {},
   "outputs": [],
   "source": []
  },
  {
   "cell_type": "code",
   "execution_count": null,
   "metadata": {},
   "outputs": [],
   "source": []
  },
  {
   "cell_type": "code",
   "execution_count": null,
   "metadata": {},
   "outputs": [],
   "source": []
  }
 ],
 "metadata": {
  "kernelspec": {
   "display_name": "Python 3",
   "language": "python",
   "name": "python3"
  },
  "language_info": {
   "codemirror_mode": {
    "name": "ipython",
    "version": 3
   },
   "file_extension": ".py",
   "mimetype": "text/x-python",
   "name": "python",
   "nbconvert_exporter": "python",
   "pygments_lexer": "ipython3",
   "version": "3.7.4"
  }
 },
 "nbformat": 4,
 "nbformat_minor": 2
}
